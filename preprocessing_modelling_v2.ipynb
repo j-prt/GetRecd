{
 "cells": [
  {
   "cell_type": "markdown",
   "id": "d7a8cd17",
   "metadata": {},
   "source": [
    "# BGG Boardgame Recommendation Engine\n",
    "## Part 2: Preprocessing and Modelling\n",
    "<img src='nb-assets/dice2.jpg'>\n",
    "\n",
    "Now that the data has been collected, let's start on the next steps towards building the recommendation engine. The data first needs to be consolidated and cleaned. Then, features need to be engineered in such a way that we can use machine learning to draw some insight from them. Then a model needs to be fit (in this case, nearest neighbor). Finally, we need to evaluate the recommendations returned by this model. "
   ]
  },
  {
   "cell_type": "markdown",
   "id": "7d9e8024",
   "metadata": {},
   "source": [
    "## Imports"
   ]
  },
  {
   "cell_type": "code",
   "execution_count": 1,
   "id": "64017544",
   "metadata": {},
   "outputs": [],
   "source": [
    "import numpy as np\n",
    "import pandas as pd\n",
    "import matplotlib.pyplot as plt\n",
    "import seaborn as sns\n",
    "from sklearn.neighbors import NearestNeighbors\n",
    "from sklearn.preprocessing import StandardScaler\n",
    "from sklearn.preprocessing import MultiLabelBinarizer\n",
    "from sklearn.feature_extraction.text import TfidfVectorizer\n",
    "from sklearn.cluster import MiniBatchKMeans\n",
    "sns.set()"
   ]
  },
  {
   "cell_type": "markdown",
   "id": "6fcde885",
   "metadata": {},
   "source": [
    "## Loading and cleaning the data\n",
    "\n",
    "A few things have to be dealt with here:\n",
    "- The multiple dataframes will need to be joined\n",
    "- Missing data needs to be identified and filled\n",
    "- Datatypes need to be converted to the most appropriate dtype for the column"
   ]
  },
  {
   "cell_type": "code",
   "execution_count": 13,
   "id": "68799a47",
   "metadata": {},
   "outputs": [],
   "source": [
    "# Merge the data into a single notebook\n",
    "df_1 = pd.read_csv('data/details_final.csv', names=['id', 'players', 'solo', 'age', 'playtime', 'description', 'designers', 'publisher', 'awards', 'categories', 'mechanics'])\n",
    "df_2 = pd.read_csv('data/final_extra_details.csv')\n",
    "df_3 = pd.read_csv('data/ranks.csv')\n",
    "df = pd.merge(df_3, df_2, on='id')\n",
    "df = pd.merge(df, df_1, on='id')"
   ]
  },
  {
   "cell_type": "code",
   "execution_count": 43,
   "id": "5e84eb3f",
   "metadata": {},
   "outputs": [],
   "source": [
    "# Address nulls in the \"best_players\" column\n",
    "# Of the non-nulls, there is about a 60:40 split between cases\n",
    "# where best = max and best = min players, respectively. So I'll\n",
    "# fill these nulls with the mean (rounded up, because max > min) \n",
    "# of the minimum and maximum player count\n",
    "\n",
    "fill_vals = np.ceil(df.loc[df.best_players.isna()].min_players + df.loc[df.best_players.isna()].players / 2)\n",
    "\n",
    "df.best_players = df.best_players.fillna(fill_vals)"
   ]
  },
  {
   "cell_type": "code",
   "execution_count": 47,
   "id": "1e1d16e7",
   "metadata": {},
   "outputs": [
    {
     "name": "stdout",
     "output_type": "stream",
     "text": [
      "<class 'pandas.core.frame.DataFrame'>\n",
      "Int64Index: 19996 entries, 0 to 19995\n",
      "Data columns (total 20 columns):\n",
      " #   Column        Non-Null Count  Dtype  \n",
      "---  ------        --------------  -----  \n",
      " 0   id            19996 non-null  int64  \n",
      " 1   title         19996 non-null  object \n",
      " 2   year          19996 non-null  object \n",
      " 3   url           19996 non-null  object \n",
      " 4   user_score    19996 non-null  float64\n",
      " 5   votes         19996 non-null  int64  \n",
      " 6   best_players  19996 non-null  float64\n",
      " 7   min_players   19996 non-null  int64  \n",
      " 8   max_playtime  19996 non-null  int64  \n",
      " 9   weight        19996 non-null  float64\n",
      " 10  players       19996 non-null  int64  \n",
      " 11  solo          19996 non-null  object \n",
      " 12  age           19996 non-null  int64  \n",
      " 13  playtime      19996 non-null  int64  \n",
      " 14  description   19996 non-null  object \n",
      " 15  designers     19996 non-null  object \n",
      " 16  publisher     19996 non-null  object \n",
      " 17  awards        19996 non-null  int64  \n",
      " 18  categories    19996 non-null  object \n",
      " 19  mechanics     19996 non-null  object \n",
      "dtypes: float64(3), int64(8), object(9)\n",
      "memory usage: 3.7+ MB\n"
     ]
    }
   ],
   "source": [
    "# Address data types of numeric columns\n",
    "df.info()"
   ]
  },
  {
   "cell_type": "code",
   "execution_count": null,
   "id": "7c6d98b7",
   "metadata": {},
   "outputs": [],
   "source": [
    "# 'year' to numeric\n",
    "df.year = pd.to_numeric(df.year, errors='coerce')"
   ]
  },
  {
   "cell_type": "code",
   "execution_count": 52,
   "id": "1f426038",
   "metadata": {},
   "outputs": [],
   "source": [
    "# There are some missing year values in the data\n",
    "# - replace with the average of the top 10 years\n",
    "average_year = np.floor(df.year.value_counts().iloc[:10].index.values.mean())\n",
    "df.year = df.year.fillna(average_year)\n",
    "df.year = df.year.astype('int')"
   ]
  },
  {
   "cell_type": "code",
   "execution_count": 79,
   "id": "7f53b374",
   "metadata": {},
   "outputs": [],
   "source": [
    "# I can safely use eval - I collected the data myself!\n",
    "df.solo = df.solo.apply(eval)"
   ]
  },
  {
   "cell_type": "code",
   "execution_count": 116,
   "id": "92b814b8",
   "metadata": {},
   "outputs": [],
   "source": [
    "# Save the current data as a kind of checkpoint \n",
    "# df.to_csv('data/data_clean.csv', index=False)"
   ]
  },
  {
   "cell_type": "markdown",
   "id": "6b52ebc9",
   "metadata": {},
   "source": [
    "## Feature engineering\n",
    "\n",
    "Goals in this section:\n",
    "- Convert the lengthy prose description of each game into a meaningful feature\n",
    "- Change the form of the 'year' column to something more useful\n",
    "- Perform one-hot-encoding and multilabel binarizing as needed"
   ]
  },
  {
   "cell_type": "code",
   "execution_count": 83,
   "id": "dc023a0a",
   "metadata": {},
   "outputs": [],
   "source": [
    "# Get the descriptions\n",
    "descriptions = df.description"
   ]
  },
  {
   "cell_type": "code",
   "execution_count": 125,
   "id": "ea1d8ce3",
   "metadata": {},
   "outputs": [],
   "source": [
    "# Use TF-IDF (unigram, digram) as a basis for clustering \n",
    "# descriptions. This will take the prose description and \n",
    "# extract themes based on recurrent keywords and from that\n",
    "# we can create labels, adding dimensionality \n",
    "tv = TfidfVectorizer(ngram_range=(1, 2), max_df=.9, min_df=.01)\n",
    "word_vectors = tv.fit_transform(descriptions.values)\n",
    "word_vectors = np.asarray(word_vectors.todense())"
   ]
  },
  {
   "cell_type": "code",
   "execution_count": 508,
   "id": "7431daf0",
   "metadata": {},
   "outputs": [],
   "source": [
    "# N clusters of 20 - this is fairly arbitrary.\n",
    "# The goal is just to create a decent variety \n",
    "# of clusters to hopefully pick out some novel \n",
    "# similarities among the description fields\n",
    "kmeans = MiniBatchKMeans(n_clusters=20, random_state=1337)\n",
    "labels = kmeans.fit_predict(word_vectors)\n",
    "\n",
    "df['labels'] = labels"
   ]
  },
  {
   "cell_type": "code",
   "execution_count": 232,
   "id": "ea184f78",
   "metadata": {},
   "outputs": [],
   "source": [
    "# Instead of using the years column, split games by age.\n",
    "# Any game less than 20 years old will be considered 'modern'\n",
    "df['modern'] = df.year.apply(lambda x: 0 if x < 2002 else 1)"
   ]
  },
  {
   "cell_type": "code",
   "execution_count": 510,
   "id": "ea3871df",
   "metadata": {},
   "outputs": [],
   "source": [
    "# OHE the publisher and label columns\n",
    "publisher = pd.get_dummies(df.publisher, drop_first=True)\n",
    "labels = pd.get_dummies(df.labels, drop_first=True)\n",
    "# Use MultiLabelBinarizer to binarize the remaining columns\n",
    "mlb = MultiLabelBinarizer()\n",
    "designers = mlb.fit_transform(df.designers)\n",
    "categories = mlb.fit_transform(df.categories)\n",
    "mechanics = mlb.fit_transform(df.mechanics)\n",
    "binaries = np.concatenate((labels, designers, publisher, categories, mechanics), axis=1)"
   ]
  },
  {
   "cell_type": "code",
   "execution_count": 511,
   "id": "8a724f58",
   "metadata": {},
   "outputs": [],
   "source": [
    "# Collect the remaining features and combine with the OHE/MLB features\n",
    "X = df.filter(['best_players', 'min_players', 'max_playtime', 'playtime', 'weight', 'user_score', 'solo', 'age', 'awards', 'modern'])\n",
    "X = np.concatenate((binaries, X.to_numpy()), axis=1)\n",
    "# Scale the collected features\n",
    "scaler = StandardScaler()\n",
    "X = scaler.fit_transform(X)"
   ]
  },
  {
   "cell_type": "markdown",
   "id": "f13db40a",
   "metadata": {},
   "source": [
    "## Modelling\n",
    "\n",
    "The approach taken is a straightforward one: [nearest neighbours](https://scikit-learn.org/stable/modules/generated/sklearn.neighbors.NearestNeighbors.html) search to identify similar games.\n",
    "\n",
    "For a single reference game, it will be as simple as calculating distance (ultimately using [Manhattan distance](https://en.wikipedia.org/wiki/Taxicab_geometry)) and returning the closest points. \n",
    "\n",
    "With a list of reference games, I'll write a function to calculate the average point of the list, and we'll find nearest neighbours from that single point - this way, recommendations will be based on a combination of elements of the whole list."
   ]
  },
  {
   "cell_type": "code",
   "execution_count": 512,
   "id": "148adbe3",
   "metadata": {},
   "outputs": [
    {
     "data": {
      "text/plain": [
       "NearestNeighbors(p=1)"
      ]
     },
     "execution_count": 512,
     "metadata": {},
     "output_type": "execute_result"
    }
   ],
   "source": [
    "# To mitigate the \"curse of dimensionality\" in the KNN\n",
    "# search, use Minkowski distance (a generalization of both\n",
    "# Euclidean and Manhattan distances) as the metric\n",
    "# to measure distance. Trialing different values\n",
    "# of p (1 <= p <=2) found the best results at p=1.\n",
    "knn = NearestNeighbors(metric='minkowski', p=1)\n",
    "knn.fit(X)"
   ]
  },
  {
   "cell_type": "code",
   "execution_count": 128,
   "id": "fb284ec1",
   "metadata": {},
   "outputs": [],
   "source": [
    "# Define a function for averaging the list of games\n",
    "\n",
    "def centroid(games: list[int]) -> np.ndarray:\n",
    "    \"\"\"\n",
    "    Calculate the centre of a list of points.\n",
    "    \n",
    "    Parameters:\n",
    "    -----------\n",
    "    games: list \n",
    "        List of indices of games the user likes\n",
    "        \n",
    "    Returns:\n",
    "    --------\n",
    "    np.ndarray \n",
    "        Vector containing the average of each dimension\n",
    "    \"\"\"\n",
    "    \n",
    "    if len(games) == 1:\n",
    "        return X[games[0]]\n",
    "    points = [X[game] for game in games]\n",
    "    centroid = np.sum(points, axis=0) / len(points)\n",
    "    return centroid"
   ]
  },
  {
   "cell_type": "markdown",
   "id": "87effe2e",
   "metadata": {},
   "source": [
    "## Testing\n",
    "\n",
    "Evaluating a model like this is a challenge in itself. The quality of recommendations is a matter of taste, and can't be measured quantitatively. As an heuristic, I've elected to take samples of games that are known to be similar and compare the recommendations we receive based on them. Then, we can see what recommendations we get from a random sampling of games. "
   ]
  },
  {
   "cell_type": "code",
   "execution_count": 604,
   "id": "fe872271",
   "metadata": {},
   "outputs": [],
   "source": [
    "# Test with a few games from the \"Pandemic\" franchise\n",
    "lst = df.loc[df.title.str.startswith(\"Pandemic\")][:5].id.index.values\n",
    "test = centroid(lst)"
   ]
  },
  {
   "cell_type": "code",
   "execution_count": 605,
   "id": "174e26b0",
   "metadata": {},
   "outputs": [],
   "source": [
    "recommendations = knn.kneighbors(test.reshape(1,-1), 25, return_distance=False)[0]"
   ]
  },
  {
   "cell_type": "code",
   "execution_count": 606,
   "id": "9226e172",
   "metadata": {},
   "outputs": [
    {
     "name": "stdout",
     "output_type": "stream",
     "text": [
      "Pandemic Legacy: Season 1                                    ['Rob Daviau', 'Matt Leacock'] Z-Man Games\n",
      "Pandemic Legacy: Season 2                                    ['Rob Daviau', 'Matt Leacock'] Z-Man Games\n",
      "Pandemic Legacy: Season 0                                    ['Rob Daviau', 'Matt Leacock'] Z-Man Games\n",
      "Pandemic                                                     ['Matt Leacock'] Z-Man Games\n",
      "Pandemic: Rising Tide                                        ['Jeroen Doumen', 'Matt Leacock'] Z-Man Games\n",
      "Pandemic: The Cure                                           ['Matt Leacock'] Z-Man Games\n",
      "Pandemic: Fall of Rome                                       ['Matt Leacock', 'Paolo Mori'] Z-Man Games\n",
      "Pandemic: Hot Zone – North America                           ['Matt Leacock'] Z-Man Games\n",
      "Pandemic: Hot Zone – Europe                                  ['Matt Leacock', 'Thomas Lehmann'] Z-Man Games\n",
      "Pandemic: Iberia                                             ['Jesús Torres Castro', 'Matt Leacock'] Z-Man Games\n",
      "Pandemic: Reign of Cthulhu                                   ['Matt Leacock', 'Chuck D. Yager'] Z-Man Games\n",
      "Pandemic: Rapid Response                                     ['Kane Klenko'] Z-Man Games\n",
      "Undermining                                                  ['Matt Tolman'] Z-Man Games\n",
      "Forbidden Island                                             ['Matt Leacock'] Gamewright\n",
      "Apocalypse Chaos                                             ['Florian Fay'] Z-Man Games\n",
      "Forbidden Sky                                                ['Matt Leacock'] Gamewright\n",
      "Middle Kingdom                                               ['Thomas Lehmann'] Z-Man Games\n",
      "Forbidden Desert                                             ['Matt Leacock'] Gamewright\n",
      "Castle Merchants                                             ['Jerry Dziuba'] Z-Man Games\n",
      "Atlantis Rising (First Edition)                              ['Galen Ciscell'] Z-Man Games\n",
      "Onirim                                                       ['Shadi Torbey'] Z-Man Games\n",
      "Cannibal Pygmies in the Jungle of Doom                       ['Stephen Tassie'] Z-Man Games\n",
      "Campaign Manager 2008                                        ['Christian Leonhard', 'Jason Matthews'] Z-Man Games\n",
      "Feudo                                                        ['Mario Papini'] Z-Man Games\n",
      "Cleopatra's Caboose                                          ['Steve Zamborsky'] Z-Man Games\n"
     ]
    }
   ],
   "source": [
    "for rec in recommendations:\n",
    "    print(df.iloc[rec].title.ljust(60), df.iloc[rec].designers, df.iloc[rec].publisher)"
   ]
  },
  {
   "cell_type": "markdown",
   "id": "bcc6ef79",
   "metadata": {},
   "source": [
    "---\n",
    "When given 5 _Pandemic_ games as an input, the top recommendations includes 12/13 of the _Pandemic_ games in the dataset, along with other games by the same publisher (_Z-Man Games_), or the designers (Rob Daviau and Matt Leacock).\n",
    "\n",
    "---"
   ]
  },
  {
   "cell_type": "code",
   "execution_count": 607,
   "id": "fcb8b0bf",
   "metadata": {},
   "outputs": [],
   "source": [
    "# Let's test with another keyword: \"Monopoly\"\n",
    "lst = df.loc[df.title.str.startswith(\"Monopoly\")][:5].id.index.values\n",
    "test = centroid(lst)"
   ]
  },
  {
   "cell_type": "code",
   "execution_count": 608,
   "id": "8b7b92bc",
   "metadata": {},
   "outputs": [],
   "source": [
    "recommendations = knn.kneighbors(test.reshape(1, -1), 25, return_distance=False)[0]"
   ]
  },
  {
   "cell_type": "code",
   "execution_count": 609,
   "id": "f3e9f8e3",
   "metadata": {},
   "outputs": [
    {
     "name": "stdout",
     "output_type": "stream",
     "text": [
      "Monopoly Millionaire Deal Card Game                ['Card Game', 'Economic'] 2\n",
      "Monopoly Gamer                                     ['Economic', 'Video Game Theme'] 2\n",
      "Monopoly Gamer: Mario Kart                         ['Economic', 'Video Game Theme'] 2\n",
      "Monopoly Deal Card Game                            ['Card Game', 'Economic'] 2\n",
      "Monopoly Bid                                       ['Card Game', 'Economic'] 2\n",
      "Monopoly Gamer: Sonic The Hedgehog                 ['Animals', 'Economic', 'Video Game Theme'] 2\n",
      "Monopoly Deal                                      ['Card Game'] 2\n",
      "Goatfish                                           ['Animals', 'Card Game'] 2\n",
      "Zen Master                                         ['Card Game'] 3\n",
      "Llamas Unleashed                                   ['Animals', 'Card Game', 'Humor'] 2\n",
      "Butts in Space: The Card Game                      ['Card Game'] 2\n",
      "Yaniv                                              ['Card Game'] 2\n",
      "Hasty Baker                                        ['Card Game'] 2\n",
      "Jambo                                              ['Card Game', 'Economic'] 2\n",
      "King Arthur: The Card Game                         ['Card Game', 'Fantasy'] 2\n",
      "Drive                                              ['Animals', 'Card Game'] 2\n",
      "Relationship Tightrope                             ['Card Game'] 3\n",
      "Gold!                                              ['Card Game'] 2\n",
      "eBay Electronic Talking Auction Game               ['Card Game', 'Electronic'] 3\n",
      "Monopoly Gamer: Overwatch Collector's Edition      ['Economic', 'Video Game Theme'] 2\n",
      "Casino                                             ['Card Game'] 2\n",
      "Keltis: Das Kartenspiel                            ['Card Game', 'Number'] 2\n",
      "The Game of Life: Super Mario Edition              [\"Children's Game\", 'Video Game Theme'] 2\n",
      "Head-to-Head Poker                                 ['Bluffing', 'Card Game'] 2\n",
      "Buraco                                             ['Card Game'] 2\n"
     ]
    }
   ],
   "source": [
    "for rec in recommendations:\n",
    "    print(df.iloc[rec].title.ljust(50), df.iloc[rec].categories, df.iloc[rec].min_players)"
   ]
  },
  {
   "cell_type": "markdown",
   "id": "0fc3acc3",
   "metadata": {},
   "source": [
    "---\n",
    "Given a list of _Monopoly_ games (3 of which have a card game theme), we get recommendations for more _Monopoly_ games, card games, and games where you can play with 2 players.\n",
    "\n",
    "---"
   ]
  },
  {
   "cell_type": "code",
   "execution_count": 570,
   "id": "29b60dc4",
   "metadata": {},
   "outputs": [],
   "source": [
    "# Finally, testing with a random sample of games\n",
    "lst = df.sample(5).id.index.values\n",
    "test = centroid(lst)"
   ]
  },
  {
   "cell_type": "code",
   "execution_count": 572,
   "id": "f1412647",
   "metadata": {},
   "outputs": [],
   "source": [
    "recommendations = knn.kneighbors(test.reshape(1, -1), 25, return_distance=False)[0]"
   ]
  },
  {
   "cell_type": "code",
   "execution_count": 600,
   "id": "cf9adf13",
   "metadata": {},
   "outputs": [
    {
     "name": "stdout",
     "output_type": "stream",
     "text": [
      "Random list of games:\n",
      "Balance Elemental                                            ['Memory']\n",
      "Krieg! World War II in Europe                                ['Wargame', 'World War II']\n",
      "Halloween                                                    ['Horror', 'Miniatures']\n",
      "Hannut: France 1940                                          ['Wargame', 'World War II']\n",
      "Skat                                                         ['Card Game']\n",
      "\n",
      "Recommendations:\n",
      "Over the Top! Lemberg 1914 & Verdun 1916                     ['Wargame', 'World War I']\n",
      "World War I: Deluxe Edition                                  ['Wargame', 'World War I']\n",
      "Balkans 1941                                                 ['Wargame', 'World War II']\n",
      "Hannut: France 1940                                          ['Wargame', 'World War II']\n",
      "Krieg! World War II in Europe                                ['Wargame', 'World War II']\n",
      "The Old Contemptibles at Mons, 1914                          ['Wargame', 'World War I']\n",
      "Over the Top! Mons & The Marne                               ['Wargame', 'World War I']\n",
      "Twilight of the Ottomans: World War I in the Middle East     ['Wargame', 'World War I']\n",
      "War in the Pacific (Second Edition)                          ['Wargame', 'World War II']\n",
      "Cherkassy Pocket: Encirclement at Korsun                     ['Wargame', 'World War II']\n",
      "Loos: The Big Push                                           ['Wargame', 'World War I']\n",
      "The Western Front: 1914 to 1918                              ['Wargame', 'World War I']\n",
      "Partizan!                                                    ['Wargame', 'World War II']\n",
      "Molotov's War                                                ['Wargame', 'World War II']\n",
      "1918: Imperial Germany's Last Chance                         ['Wargame', 'World War I']\n",
      "Reinforce the Right!                                         ['Wargame', 'World War I']\n",
      "The Rhineland War, 1936-37                                   ['Wargame', 'World War II']\n",
      "No Prisoners: The Campaigns of Lawrence of Arabia, 1915-1918 ['Wargame', 'World War I']\n",
      "The Italian Campaign: Salerno                                ['Wargame', 'World War II']\n",
      "The Italian Campaign: Sicily                                 ['Wargame', 'World War II']\n",
      "Vinegar Joe's War: CBI                                       ['Wargame', 'World War II']\n",
      "Case Green                                                   ['Wargame', 'World War II']\n",
      "The Italian Campaign: Anzio                                  ['Wargame', 'World War II']\n",
      "Over the Top! Four Battles from World War One                ['Wargame', 'World War I']\n",
      "Belisarius: The Byzantine Empire Strikes                     ['Medieval', 'Wargame']\n"
     ]
    }
   ],
   "source": [
    "print('Random list of games:')\n",
    "for id_ in lst:\n",
    "    print(df.iloc[id_].title.ljust(60), df.iloc[id_].categories)\n",
    "print('\\nRecommendations:')\n",
    "for rec in recommendations:\n",
    "    print(df.iloc[rec].title.ljust(60), df.iloc[rec].categories)"
   ]
  },
  {
   "cell_type": "markdown",
   "id": "4e39c659",
   "metadata": {},
   "source": [
    "---\n",
    "And here's a natural limitation of using KNN (and a problem with recommendation engines generally): The random sample of games selected happened to have two games from the \"Wargame\" and \"World War II\" categories, leading to a ton of games about war, mainly WWII. It's not clear at all what effect, if any, the 3 other games had on these recommendations.\n",
    "\n",
    "---"
   ]
  },
  {
   "cell_type": "markdown",
   "id": "2cb0a5cb",
   "metadata": {},
   "source": [
    "## Addendum: Version 2\n",
    "\n",
    "I thought this model was decent. Looked like it was producing relevant recommendations based on the data fed into it. However, after building a webpage around it and deploying it, there were three serious issues that need to be addressed:\n",
    "- Size. The feature matrix of 19997 x 4166 has to be loaded into memory for the knn model to generate recommendations. The fit model weighs in at 666mb.. its size was a major issue in deployment. It's too large for a Heroku web app, so I had to deploy to Azure. This led to the next problem:\n",
    "- Computational complexity. Nearest neighbours is not cheap! For N-samples in D-dimensions, scikit-learn's KNN search complexity ranges from O(DlogN) to O(DN) (depending on data and algorithm). But there was one more problem..\n",
    "- The top 20,000 rated games weren't enough. After running a few tests on family members, I noticed that while the dataset included my favourite board games, it didn't actually include some of the most popular games among people who aren't, well, board game geeks. \n",
    "\n",
    "So I need more data. And the data to take up less space. OK."
   ]
  },
  {
   "cell_type": "code",
   "execution_count": 2,
   "id": "5ee40ce7",
   "metadata": {},
   "outputs": [],
   "source": [
    "import numpy as np\n",
    "import pandas as pd\n",
    "import matplotlib.pyplot as plt\n",
    "import seaborn as sns\n",
    "from sklearn.neighbors import NearestNeighbors\n",
    "from sklearn.preprocessing import StandardScaler\n",
    "from sklearn.preprocessing import MultiLabelBinarizer\n",
    "from sklearn.feature_extraction.text import TfidfVectorizer\n",
    "from sklearn.cluster import MiniBatchKMeans\n",
    "from sklearn.decomposition import PCA\n",
    "sns.set()"
   ]
  },
  {
   "cell_type": "code",
   "execution_count": 2,
   "id": "47e07a97",
   "metadata": {
    "scrolled": true
   },
   "outputs": [],
   "source": [
    "# Scraped another 5000 records\n",
    "df = pd.read_csv('data/data_v2.csv')"
   ]
  },
  {
   "cell_type": "code",
   "execution_count": 149,
   "id": "a9f6dd80",
   "metadata": {},
   "outputs": [],
   "source": [
    "# This time I'll take a different approach to playtime\n",
    "# and segment games into short, medium, and long \n",
    "\n",
    "df['avgplay'] = (df.playtime + df.max_playtime) / 2"
   ]
  },
  {
   "cell_type": "code",
   "execution_count": 150,
   "id": "92c8ed2e",
   "metadata": {},
   "outputs": [],
   "source": [
    "df.avgplay = df.avgplay.apply(lambda x: 'short' if x < 45 else ('medium' if x < 90 else 'long'))"
   ]
  },
  {
   "cell_type": "code",
   "execution_count": 151,
   "id": "0caba91a",
   "metadata": {
    "scrolled": false
   },
   "outputs": [],
   "source": [
    "df = df.drop(columns=['max_playtime', 'playtime'])"
   ]
  },
  {
   "cell_type": "code",
   "execution_count": 152,
   "id": "f7bf0bcb",
   "metadata": {},
   "outputs": [],
   "source": [
    "# Tweak the max_df down to .5\n",
    "descriptions = df.description\n",
    "tv = TfidfVectorizer(ngram_range=(1, 2), max_df=.5, min_df=.01)\n",
    "word_vectors = tv.fit_transform(descriptions.values)\n",
    "word_vectors = np.asarray(word_vectors.todense())"
   ]
  },
  {
   "cell_type": "code",
   "execution_count": 153,
   "id": "f0bfa368",
   "metadata": {},
   "outputs": [
    {
     "data": {
      "text/plain": [
       "[<matplotlib.lines.Line2D at 0x7f94bb6e8a60>]"
      ]
     },
     "execution_count": 153,
     "metadata": {},
     "output_type": "execute_result"
    },
    {
     "data": {
      "image/png": "[encoded data removed]",
      "text/plain": [
       "<Figure size 720x864 with 1 Axes>"
      ]
     },
     "metadata": {},
     "output_type": "display_data"
    }
   ],
   "source": [
    "# Try a smaller cluster count informed by an elbow plot\n",
    "wcss = []\n",
    "range_ = range(2, 20)\n",
    "\n",
    "for i in range_:\n",
    "    kmeans = MiniBatchKMeans(i, random_state=1337)\n",
    "    kmeans.fit(word_vectors)\n",
    "    wcss.append(kmeans.inertia_)\n",
    "    labels = kmeans.labels_\n",
    "\n",
    "fig, ax = plt.subplots(figsize=(10, 12))\n",
    "ax.plot(range_, wcss, c='r', lw=3)"
   ]
  },
  {
   "cell_type": "code",
   "execution_count": 154,
   "id": "e1c39c13",
   "metadata": {},
   "outputs": [],
   "source": [
    "kmeans = MiniBatchKMeans(n_clusters=13, random_state=1337)\n",
    "labels = kmeans.fit_predict(word_vectors)\n",
    "df['labels'] = labels"
   ]
  },
  {
   "cell_type": "code",
   "execution_count": 155,
   "id": "5b4730ac",
   "metadata": {},
   "outputs": [],
   "source": [
    "# The \"votes\" category records how many reviews a game has received\n",
    "# As a proxy for popularity, I'll remove all games that don't meet\n",
    "# a threshold number of votes\n",
    "thresh = 100\n",
    "df = df.loc[df.votes >= thresh]\n",
    "df = df.reset_index(drop=True)"
   ]
  },
  {
   "cell_type": "code",
   "execution_count": 156,
   "id": "732db6a9",
   "metadata": {},
   "outputs": [],
   "source": [
    "df['modern'] = df.year.apply(lambda x: 0 if x < 2002 else 1)"
   ]
  },
  {
   "cell_type": "code",
   "execution_count": 174,
   "id": "47b490ec",
   "metadata": {},
   "outputs": [],
   "source": [
    "# Same process as before:\n",
    "# OHE the publisher and label columns\n",
    "avgplay = pd.get_dummies(df.avgplay, drop_first=True)\n",
    "publisher = pd.get_dummies(df.publisher, drop_first=True)\n",
    "labels = pd.get_dummies(df.labels, drop_first=True)\n",
    "# Use MultiLabelBinarizer to binarize the remaining columns\n",
    "mlb = MultiLabelBinarizer()\n",
    "designers = mlb.fit_transform(df.designers)\n",
    "categories = mlb.fit_transform(df.categories)\n",
    "mechanics = mlb.fit_transform(df.mechanics)\n",
    "binaries = np.concatenate((avgplay, labels, designers, publisher, categories, mechanics), axis=1)\n",
    "# Collect the remaining features and combine with the OHE/MLB features\n",
    "X = df.filter(['best_players', 'players', 'weight', 'user_score', 'solo', 'age', 'awards', 'modern'])\n",
    "X = np.concatenate((binaries, X.to_numpy()), axis=1)\n",
    "# Scale the collected features\n",
    "scaler = StandardScaler()\n",
    "X = scaler.fit_transform(X)"
   ]
  },
  {
   "cell_type": "code",
   "execution_count": 175,
   "id": "b87f9c0a",
   "metadata": {},
   "outputs": [],
   "source": [
    "pca = PCA(n_components=250)"
   ]
  },
  {
   "cell_type": "code",
   "execution_count": 176,
   "id": "bfb7d227",
   "metadata": {},
   "outputs": [
    {
     "data": {
      "text/plain": [
       "PCA(n_components=250)"
      ]
     },
     "execution_count": 176,
     "metadata": {},
     "output_type": "execute_result"
    }
   ],
   "source": [
    "pca.fit(X)"
   ]
  },
  {
   "cell_type": "code",
   "execution_count": 177,
   "id": "e99f7337",
   "metadata": {},
   "outputs": [
    {
     "data": {
      "text/plain": [
       "0.18297460519067005"
      ]
     },
     "execution_count": 177,
     "metadata": {},
     "output_type": "execute_result"
    }
   ],
   "source": [
    "pca.explained_variance_ratio_.sum() # 250 - 18 500 - 28 - 100 - 11"
   ]
  },
  {
   "cell_type": "markdown",
   "id": "2d92906d",
   "metadata": {},
   "source": [
    "---\n",
    "I tested a few different levels reduction with PCA. At 500 components (28% explained variance), results were pretty much the same as the prior model. As low as 100 components (11% explained variance), results appear to be much less similar with each other. In the interest of reducing final deployment size, I'm settling at 250 components with 18% explained variance. Results below.\n",
    "\n",
    "---"
   ]
  },
  {
   "cell_type": "code",
   "execution_count": 178,
   "id": "3c4e1728",
   "metadata": {},
   "outputs": [],
   "source": [
    "X = pca.transform(X)"
   ]
  },
  {
   "cell_type": "code",
   "execution_count": 179,
   "id": "b5325c7c",
   "metadata": {},
   "outputs": [
    {
     "name": "stdout",
     "output_type": "stream",
     "text": [
      "Pandemic Legacy: Season 2                                    ['Rob Daviau', 'Matt Leacock'] Z-Man Games\n",
      "Pandemic Legacy: Season 1                                    ['Rob Daviau', 'Matt Leacock'] Z-Man Games\n",
      "Pandemic Legacy: Season 0                                    ['Rob Daviau', 'Matt Leacock'] Z-Man Games\n",
      "Pandemic: Rising Tide                                        ['Jeroen Doumen', 'Matt Leacock'] Z-Man Games\n",
      "Pandemic                                                     ['Matt Leacock'] Z-Man Games\n",
      "Pandemic: Fall of Rome                                       ['Matt Leacock', 'Paolo Mori'] Z-Man Games\n",
      "Pandemic: The Cure                                           ['Matt Leacock'] Z-Man Games\n",
      "Pandemic: Hot Zone – Europe                                  ['Matt Leacock', 'Thomas Lehmann'] Z-Man Games\n",
      "Pandemic: Hot Zone – North America                           ['Matt Leacock'] Z-Man Games\n",
      "Battle Beyond Space                                          ['Frank Branham'] Z-Man Games\n",
      "Undermining                                                  ['Matt Tolman'] Z-Man Games\n",
      "Apocalypse Chaos                                             ['Florian Fay'] Z-Man Games\n",
      "Pandemic: Rapid Response                                     ['Kane Klenko'] Z-Man Games\n",
      "Take Stock                                                   ['Simon Hunt'] Z-Man Games\n",
      "Forbidden Sky                                                ['Matt Leacock'] Gamewright\n",
      "Burrows                                                      ['Jeb Havens'] Z-Man Games\n",
      "Middle Kingdom                                               ['Thomas Lehmann'] Z-Man Games\n",
      "Feudo                                                        ['Mario Papini'] Z-Man Games\n",
      "Forbidden Island                                             ['Matt Leacock'] Gamewright\n",
      "Merchants & Marauders                                        ['Kasper Aagaard', 'Christian Marcussen'] Z-Man Games\n",
      "Endeavor                                                     ['Carl de Visser', 'Jarratt Gray'] Z-Man Games\n",
      "Pandemic: Reign of Cthulhu                                   ['Matt Leacock', 'Chuck D. Yager'] Z-Man Games\n",
      "Midgard                                                      ['Eric M. Lang'] Z-Man Games\n",
      "Onirim                                                       ['Shadi Torbey'] Z-Man Games\n",
      "Campaign Manager 2008                                        ['Christian Leonhard', 'Jason Matthews'] Z-Man Games\n"
     ]
    }
   ],
   "source": [
    "knn = NearestNeighbors(metric='minkowski', p=1)\n",
    "knn.fit(X)\n",
    "lst = df.loc[df.title.str.startswith(\"Pandemic\")][:5].id.index.values\n",
    "test = centroid(lst)\n",
    "recommendations = knn.kneighbors(test.reshape(1,-1), 25, return_distance=False)[0]\n",
    "for rec in recommendations:\n",
    "    print(df.iloc[rec].title.ljust(60), df.iloc[rec].designers, df.iloc[rec].publisher)"
   ]
  },
  {
   "cell_type": "code",
   "execution_count": 180,
   "id": "bcf17203",
   "metadata": {},
   "outputs": [
    {
     "name": "stdout",
     "output_type": "stream",
     "text": [
      "Monopoly Millionaire Deal Card Game                ['Card Game', 'Economic'] 2\n",
      "Free Parking                                       ['Card Game', 'Transportation'] 2\n",
      "Monopoly Deal Card Game                            ['Card Game', 'Economic'] 2\n",
      "Monopoly Gamer: Mario Kart                         ['Economic', 'Video Game Theme'] 2\n",
      "Monopoly Gamer                                     ['Economic', 'Video Game Theme'] 2\n",
      "Monopoly: Stock Exchange                           ['Economic', 'Electronic', 'Negotiation'] 2\n",
      "eBay Electronic Talking Auction Game               ['Card Game', 'Electronic'] 3\n",
      "The Game of Life: Twists & Turns                   ['Economic', 'Electronic'] 2\n",
      "Megastar                                           ['Card Game', 'Music'] 2\n",
      "Monopoly Bid                                       ['Card Game', 'Economic'] 2\n",
      "I'm the Boss!: The Card Game                       ['Card Game', 'Economic', 'Negotiation'] 3\n",
      "Head-to-Head Poker                                 ['Bluffing', 'Card Game'] 2\n",
      "Monopoly: Electronic Banking                       ['Economic', 'Electronic', 'Negotiation'] 2\n",
      "U-Build Monopoly                                   ['Economic', 'Negotiation'] 2\n",
      "Monopoly Millionaire                               ['Dice', 'Economic', 'Negotiation'] 2\n",
      "Borneo                                             ['Card Game', 'Economic', 'Nautical'] 3\n",
      "Upwords Deluxe                                     ['Word Game'] 2\n",
      "Balloon Cup                                        ['Aviation / Flight', 'Card Game'] 2\n",
      "Exchange                                           ['Deduction', 'Economic'] 3\n",
      "Star Wars: Han Solo Card Game                      ['Card Game', 'Movies / TV / Radio theme', 'Science Fiction'] 2\n",
      "Monopoly: Here and Now – The World Edition         ['Economic', 'Electronic', 'Negotiation'] 2\n",
      "Monopoly: The .com Edition                         ['Economic', 'Negotiation'] 2\n",
      "Volle Scholle                                      ['Animals', 'Card Game'] 3\n",
      "Monopoly Revolution                                ['Economic', 'Electronic', 'Negotiation'] 2\n",
      "Take Stock                                         ['Card Game', 'Economic'] 2\n"
     ]
    }
   ],
   "source": [
    "# Let's test with another keyword: \"Monopoly\"\n",
    "lst = df.loc[df.title.str.startswith(\"Monopoly\")][:5].id.index.values\n",
    "test = centroid(lst)\n",
    "recommendations = knn.kneighbors(test.reshape(1, -1), 25, return_distance=False)[0]\n",
    "for rec in recommendations:\n",
    "    print(df.iloc[rec].title.ljust(50), df.iloc[rec].categories, df.iloc[rec].min_players)"
   ]
  },
  {
   "cell_type": "code",
   "execution_count": 182,
   "id": "aa0acc68",
   "metadata": {},
   "outputs": [
    {
     "name": "stdout",
     "output_type": "stream",
     "text": [
      "Random list of games:\n",
      "The Night Cage                                               ['Horror', 'Maze']\n",
      "DiceWar: Light of Dragons                                    ['Dice', 'Fantasy']\n",
      "Start Player: A Kinda Collectible Card Game                  ['Card Game', 'Collectible Components', 'Comic Book / Strip', 'Humor']\n",
      "Tsuro of the Seas                                            ['Abstract Strategy', 'Nautical']\n",
      "Bee Alert                                                    ['Animals', \"Children's Game\", 'Memory']\n",
      "\n",
      "Recommendations:\n",
      "Reverse Charades                                             ['Party Game']\n",
      "25 Words or Less                                             ['Party Game', 'Word Game']\n",
      "Mall World                                                   ['Economic', 'Territory Building']\n",
      "The 3 Commandments                                           ['Deduction', 'Fantasy', 'Memory', 'Party Game']\n",
      "Ad Acta                                                      ['Card Game']\n",
      "Wits & Wagers: It's Vegas, Baby!                             ['Party Game', 'Trivia']\n",
      "Privacy                                                      ['Mature / Adult', 'Party Game']\n",
      "Micro Robots                                                 ['Abstract Strategy', 'Puzzle', 'Real-time']\n",
      "Game of Phones                                               ['Card Game', 'Electronic', 'Humor', 'Party Game']\n",
      "Joe Name It                                                  ['Party Game', 'Trivia']\n",
      "The Contender: The Game of Presidential Debate               ['Card Game', 'Party Game', 'Political']\n",
      "CONFIDENT?                                                   ['Educational', 'Number', 'Party Game', 'Print & Play', 'Trivia']\n",
      "Word Slam Midnight                                           ['Party Game', 'Word Game']\n",
      "Arch Rival                                                   ['Action / Dexterity', 'Party Game']\n",
      "Cowabunga                                                    ['Card Game', 'Memory', 'Number', 'Sports']\n",
      "Halli Galli Extreme                                          ['Action / Dexterity', 'Animals', 'Humor', 'Memory']\n",
      "Word Slam Family                                             ['Party Game', 'Word Game']\n",
      "Privacy 2                                                    ['Mature / Adult', 'Party Game']\n",
      "Texas Showdown                                               ['American West', 'Card Game']\n",
      "Catch Phrase!                                                ['Party Game', 'Word Game']\n",
      "Megastar                                                     ['Card Game', 'Music']\n",
      "Double Down                                                  ['Card Game']\n",
      "Moods                                                        ['Party Game']\n",
      "Snorta!                                                      ['Action / Dexterity', 'Animals', 'Humor', 'Party Game']\n",
      "Karate Tomate                                                ['Card Game', 'Humor']\n"
     ]
    }
   ],
   "source": [
    "# Finally, testing with a random sample of games\n",
    "lst = df.sample(5).id.index.values\n",
    "test = centroid(lst)\n",
    "recommendations = knn.kneighbors(test.reshape(1, -1), 25, return_distance=False)[0]\n",
    "print('Random list of games:')\n",
    "for id_ in lst:\n",
    "    print(df.iloc[id_].title.ljust(60), df.iloc[id_].categories)\n",
    "print('\\nRecommendations:')\n",
    "for rec in recommendations:\n",
    "    print(df.iloc[rec].title.ljust(60), df.iloc[rec].categories)"
   ]
  },
  {
   "cell_type": "markdown",
   "id": "42e88a17",
   "metadata": {},
   "source": [
    "Interesting random results. The theme is party games for sure. I bet it would be interesting to play some games from both the random list and the recommendations and see how similar they are. If I had time for that!"
   ]
  },
  {
   "cell_type": "code",
   "execution_count": 185,
   "id": "e0354e56",
   "metadata": {},
   "outputs": [],
   "source": [
    "df.to_csv('data/data_compact.csv')"
   ]
  },
  {
   "cell_type": "code",
   "execution_count": 186,
   "id": "7100d3e8",
   "metadata": {},
   "outputs": [],
   "source": [
    "np.savez_compressed('data/x_compact.npz', X=X)"
   ]
  }
 ],
 "metadata": {
  "kernelspec": {
   "display_name": "Python 3 (ipykernel)",
   "language": "python",
   "name": "python3"
  },
  "language_info": {
   "codemirror_mode": {
    "name": "ipython",
    "version": 3
   },
   "file_extension": ".py",
   "mimetype": "text/x-python",
   "name": "python",
   "nbconvert_exporter": "python",
   "pygments_lexer": "ipython3",
   "version": "3.9.12"
  }
 },
 "nbformat": 4,
 "nbformat_minor": 5
}
